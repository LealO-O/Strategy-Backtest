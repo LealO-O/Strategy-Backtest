{
  "nbformat": 4,
  "nbformat_minor": 0,
  "metadata": {
    "colab": {
      "provenance": []
    },
    "kernelspec": {
      "name": "python3",
      "display_name": "Python 3"
    },
    "language_info": {
      "name": "python"
    }
  },
  "cells": [
    {
      "cell_type": "markdown",
      "source": [
        "学习点：\n",
        "\n",
        "1.邮箱的授权  \n",
        "2.schedule：在证券交易中的制度中，有交易和休市时间，要实现程序的定时运行，该库必不可少，详见程序部分对该库用法的介绍。  \n",
        "3.smtplib：该库主要实现电子邮件的发送。  \n",
        "4.sys：在交易日的15:00以后已经闭市，为避免资源的浪费，此时可以调用sys.exit()方法实现程序的自动退出。  \n",
        "5.pyinstaller：用该库可以将程序打包成可执行的exe格式文件，便于程序的运行  "
      ],
      "metadata": {
        "id": "UCF37IG4BkZs"
      }
    },
    {
      "cell_type": "code",
      "source": [
        "!pip install tushare\n",
        "!pip install smtplib"
      ],
      "metadata": {
        "colab": {
          "base_uri": "https://localhost:8080/"
        },
        "id": "NpL83fis5HMh",
        "outputId": "2ceddb39-ead3-45c2-a3d5-f02ab356cfd1"
      },
      "execution_count": 14,
      "outputs": [
        {
          "output_type": "stream",
          "name": "stdout",
          "text": [
            "Requirement already satisfied: tushare in /usr/local/lib/python3.10/dist-packages (1.2.89)\n",
            "Requirement already satisfied: pandas in /usr/local/lib/python3.10/dist-packages (from tushare) (1.5.3)\n",
            "Requirement already satisfied: requests in /usr/local/lib/python3.10/dist-packages (from tushare) (2.31.0)\n",
            "Requirement already satisfied: lxml in /usr/local/lib/python3.10/dist-packages (from tushare) (4.9.3)\n",
            "Requirement already satisfied: simplejson in /usr/local/lib/python3.10/dist-packages (from tushare) (3.19.2)\n",
            "Requirement already satisfied: bs4 in /usr/local/lib/python3.10/dist-packages (from tushare) (0.0.1)\n",
            "Requirement already satisfied: websocket-client==0.57.0 in /usr/local/lib/python3.10/dist-packages (from tushare) (0.57.0)\n",
            "Requirement already satisfied: six in /usr/local/lib/python3.10/dist-packages (from websocket-client==0.57.0->tushare) (1.16.0)\n",
            "Requirement already satisfied: beautifulsoup4 in /usr/local/lib/python3.10/dist-packages (from bs4->tushare) (4.11.2)\n",
            "Requirement already satisfied: python-dateutil>=2.8.1 in /usr/local/lib/python3.10/dist-packages (from pandas->tushare) (2.8.2)\n",
            "Requirement already satisfied: pytz>=2020.1 in /usr/local/lib/python3.10/dist-packages (from pandas->tushare) (2023.3.post1)\n",
            "Requirement already satisfied: numpy>=1.21.0 in /usr/local/lib/python3.10/dist-packages (from pandas->tushare) (1.23.5)\n",
            "Requirement already satisfied: charset-normalizer<4,>=2 in /usr/local/lib/python3.10/dist-packages (from requests->tushare) (3.3.0)\n",
            "Requirement already satisfied: idna<4,>=2.5 in /usr/local/lib/python3.10/dist-packages (from requests->tushare) (3.4)\n",
            "Requirement already satisfied: urllib3<3,>=1.21.1 in /usr/local/lib/python3.10/dist-packages (from requests->tushare) (2.0.6)\n",
            "Requirement already satisfied: certifi>=2017.4.17 in /usr/local/lib/python3.10/dist-packages (from requests->tushare) (2023.7.22)\n",
            "Requirement already satisfied: soupsieve>1.2 in /usr/local/lib/python3.10/dist-packages (from beautifulsoup4->bs4->tushare) (2.5)\n",
            "\u001b[31mERROR: Could not find a version that satisfies the requirement smtplib (from versions: none)\u001b[0m\u001b[31m\n",
            "\u001b[0m\u001b[31mERROR: No matching distribution found for smtplib\u001b[0m\u001b[31m\n",
            "\u001b[0m"
          ]
        }
      ]
    },
    {
      "cell_type": "code",
      "source": [
        "import datetime\n",
        "import tushare as ts\n",
        "import smtplib\n",
        "from email.mime.text import MIMEText"
      ],
      "metadata": {
        "id": "PNtwhifm47tk"
      },
      "execution_count": 20,
      "outputs": []
    },
    {
      "cell_type": "code",
      "execution_count": 4,
      "metadata": {
        "id": "PbMhZsEQ3Yce"
      },
      "outputs": [],
      "source": [
        "def pd_ztjytime():#判断是否是交易时间\n",
        "    now_time = datetime.datetime.now().strftime('%Y-%m-%d %H:%M:%S')         # 将datetime对象转换为格式化字符串\n",
        "    now_datetime = datetime.datetime.strptime(now_time, '%Y-%m-%d %H:%M:%S') # 将格式化时间字符串转换回datetime对象\n",
        "    d1 = datetime.datetime.strptime(datetime.datetime.now().strftime('%Y-%m-%d') + ' 11:30:01', '%Y-%m-%d %H:%M:%S')\n",
        "    d2 = datetime.datetime.strptime(datetime.datetime.now().strftime('%Y-%m-%d') + ' 13:00:00', '%Y-%m-%d %H:%M:%S')\n",
        "    delta1 = (now_datetime - d1).total_seconds()\n",
        "    delta2 = (d2-now_datetime).total_seconds()\n",
        "    if delta1>0 and delta2>0 : #在暂停交易的时间内\n",
        "        return True  #在暂停的交易时间范围内，返回 True\n",
        "    else:\n",
        "        return False #不在暂停的交易时间范围内，返回 False"
      ]
    },
    {
      "cell_type": "code",
      "source": [
        "def get_now_jiage(code):\n",
        "   df = ts.get_realtime_quotes(code)[['name','price','pre_close','date','time']]\n",
        "   return df"
      ],
      "metadata": {
        "id": "JlazYEpR40MJ"
      },
      "execution_count": 11,
      "outputs": []
    },
    {
      "cell_type": "code",
      "source": [
        "def send_Email(Email_address, email_text):\n",
        "    from_addr = '2330278295@qq.com' #发出电子邮件的地址\n",
        "    password = '************'   #发出电子邮件的密码\n",
        "    title = '股票价格异动监控消息-' + datetime.datetime.now().strftime('%Y-%m-%d %H:%M:%S')  #电子邮件的标题\n",
        "    msg = MIMEText(email_text, 'html', 'utf-8') #电子邮件的格式是HTML\n",
        "    msg['From'] = from_addr\n",
        "    msg['To'] = Email_address\n",
        "    msg['Subject'] = title\n",
        "\n",
        "    try:\n",
        "        server = smtplib.SMTP_SSL('smtp.qq.com', 465)\n",
        "        server.login(from_addr, password)  # 发送邮件\n",
        "        server.send_message(msg)\n",
        "        server.quit()\n",
        "\n",
        "        # print(Email_address+'  send success!')\n",
        "        #send_info.append(Email_address + '  send success!\\n')\n",
        "    except Exception as e:\n",
        "        a+1\n",
        "        # print(e)\n",
        "        #send_info.append(e + '\\n')\n",
        "        #send_info.append(Email_address + ' send failed!\\n')\n",
        "        # print(Email_address+' send failed!')"
      ],
      "metadata": {
        "id": "IU-2nI-Q8kQD"
      },
      "execution_count": 21,
      "outputs": []
    },
    {
      "cell_type": "code",
      "source": [
        "def do_programe(code):\n",
        "    if pd_ztjytime()==False: #判断是否在暂停交易的时间范围内\n",
        "        info=get_now_jiage(code) #调用方法获取当前的DataFrame\n",
        "        now_jiage=float(info['price'][0]) #获取现价\n",
        "        name=info['name'][0] #获取证券名称\n",
        "        pre_close=float(info['pre_close'][0]) #获取昨日收盘价\n",
        "        riqi=info['date'][0] #获取现价对应的日期\n",
        "        sj=info['time'][0] #获取价格对应的时间\n",
        "        now_zdie=round((now_jiage-pre_close)/pre_close*100,2) #计算现在的涨跌幅\n",
        "        all_zdie=round((now_jiage-cbj)/cbj*100,2)  #计算股票持有期间内总的涨跌幅，其中cbj为购买时候的成本价，需要约定全局变量\n",
        "        now_shizhi=round(shuliang*now_jiage,2) #计算股票现在的市值，其中shuliang为购买股票的数量，需要约定为全局变量\n",
        "        ykui=round(now_shizhi-cbj*shuliang,2)  #计算股票现在总的盈亏\n",
        "        if (abs(now_zdie)>=3 and abs(now_zdie)<3.09) or (abs(now_zdie)>=6  and abs(now_zdie)<6.05)  or (abs(now_zdie)>=9 and  abs(now_zdie)<9.1) : #判断现在的涨跌幅是否在目标范围内\n",
        "            email_comment = []\n",
        "            email_comment.append('<html>')\n",
        "            email_comment.append('<b><p><h3><font size=\"2\" color=\"black\">您好：</font></h4></p></b>')\n",
        "            email_comment.append('<p><font size=\"2\" color=\"#000000\">根据设置参数，现将监控到'+name+'('+str(code)+')的证券价格异动消息汇报如下：</font></p>')\n",
        "            email_comment.append('<table border=\"1px\" cellspacing=\"0px\"   width=\"600\" bgcolor=' + color_bg_fg + ' style=\"border-collapse:collapse\">')\n",
        "\n",
        "            email_comment.append('<tr>')\n",
        "            email_comment.append('<td align=\"center\"><b>序号</b></td>')\n",
        "            email_comment.append('<td align=\"center\"><b>购买单价</b></td>')\n",
        "            email_comment.append('<td align=\"center\"><b>持股数</b></td>')\n",
        "            email_comment.append('<td align=\"center\"><b>现价</b></td>')\n",
        "            email_comment.append('<td align=\"center\"><b>现涨跌幅</b></td>')\n",
        "            email_comment.append('<td align=\"center\"><b>总涨跌幅</b></td>')\n",
        "            email_comment.append('<td align=\"center\"><b>现市值</b></td>')\n",
        "            email_comment.append('<td align=\"center\"><b>盈亏额</b></td>')\n",
        "            email_comment.append('<td align=\"center\"><b>异动时间</b></td>')\n",
        "            email_comment.append('</tr>')\n",
        "\n",
        "            email_comment.append('<tr>')\n",
        "            email_comment.append('<td align=\"center\">'+str(1)+'</td>')\n",
        "            email_comment.append('<td align=\"center\">'+str(cbj) + '</td>')\n",
        "            email_comment.append('<td align=\"center\">' + str(shuliang) + '</td>')\n",
        "            email_comment.append('<td align=\"center\">' + str(now_jiage) +'</td>')\n",
        "            email_comment.append('<td align=\"center\">' + str(now_zdie) + '%</td>')\n",
        "            email_comment.append('<td align=\"center\">' + str(all_zdie) + '%</td>')\n",
        "            email_comment.append('<td align=\"center\">' + str(now_shizhi) + '元</td>')\n",
        "            email_comment.append('<td align=\"center\">' + str(ykui) + '元</td>')\n",
        "            email_comment.append('<td align=\"center\">' + str(riqi) +' '+str(sj) +'</td>')\n",
        "            email_comment.append('</tr>')\n",
        "            email_comment.append('</table>')\n",
        "            email_comment.append('<p><font size=\"2\" color=\"black\">祝：股市天天红，日日发大财！</font></p>')\n",
        "            email_comment.append('</html>')\n",
        "            send_msg = '\\n'.join(email_comment)\n",
        "            send_Email(email_add[0], send_msg)"
      ],
      "metadata": {
        "colab": {
          "base_uri": "https://localhost:8080/",
          "height": 81
        },
        "id": "dUOy7dx443fe",
        "outputId": "10e73244-e298-4fc3-8217-eb020d171352"
      },
      "execution_count": 13,
      "outputs": [
        {
          "output_type": "execute_result",
          "data": {
            "text/plain": [
              "   name     price pre_close        date      time\n",
              "0  贵州茅台  1728.000  1726.000  2023-10-18  15:00:01"
            ],
            "text/html": [
              "\n",
              "  <div id=\"df-a1c1fd46-332e-468b-b97b-1503d87b1f01\" class=\"colab-df-container\">\n",
              "    <div>\n",
              "<style scoped>\n",
              "    .dataframe tbody tr th:only-of-type {\n",
              "        vertical-align: middle;\n",
              "    }\n",
              "\n",
              "    .dataframe tbody tr th {\n",
              "        vertical-align: top;\n",
              "    }\n",
              "\n",
              "    .dataframe thead th {\n",
              "        text-align: right;\n",
              "    }\n",
              "</style>\n",
              "<table border=\"1\" class=\"dataframe\">\n",
              "  <thead>\n",
              "    <tr style=\"text-align: right;\">\n",
              "      <th></th>\n",
              "      <th>name</th>\n",
              "      <th>price</th>\n",
              "      <th>pre_close</th>\n",
              "      <th>date</th>\n",
              "      <th>time</th>\n",
              "    </tr>\n",
              "  </thead>\n",
              "  <tbody>\n",
              "    <tr>\n",
              "      <th>0</th>\n",
              "      <td>贵州茅台</td>\n",
              "      <td>1728.000</td>\n",
              "      <td>1726.000</td>\n",
              "      <td>2023-10-18</td>\n",
              "      <td>15:00:01</td>\n",
              "    </tr>\n",
              "  </tbody>\n",
              "</table>\n",
              "</div>\n",
              "    <div class=\"colab-df-buttons\">\n",
              "\n",
              "  <div class=\"colab-df-container\">\n",
              "    <button class=\"colab-df-convert\" onclick=\"convertToInteractive('df-a1c1fd46-332e-468b-b97b-1503d87b1f01')\"\n",
              "            title=\"Convert this dataframe to an interactive table.\"\n",
              "            style=\"display:none;\">\n",
              "\n",
              "  <svg xmlns=\"http://www.w3.org/2000/svg\" height=\"24px\" viewBox=\"0 -960 960 960\">\n",
              "    <path d=\"M120-120v-720h720v720H120Zm60-500h600v-160H180v160Zm220 220h160v-160H400v160Zm0 220h160v-160H400v160ZM180-400h160v-160H180v160Zm440 0h160v-160H620v160ZM180-180h160v-160H180v160Zm440 0h160v-160H620v160Z\"/>\n",
              "  </svg>\n",
              "    </button>\n",
              "\n",
              "  <style>\n",
              "    .colab-df-container {\n",
              "      display:flex;\n",
              "      gap: 12px;\n",
              "    }\n",
              "\n",
              "    .colab-df-convert {\n",
              "      background-color: #E8F0FE;\n",
              "      border: none;\n",
              "      border-radius: 50%;\n",
              "      cursor: pointer;\n",
              "      display: none;\n",
              "      fill: #1967D2;\n",
              "      height: 32px;\n",
              "      padding: 0 0 0 0;\n",
              "      width: 32px;\n",
              "    }\n",
              "\n",
              "    .colab-df-convert:hover {\n",
              "      background-color: #E2EBFA;\n",
              "      box-shadow: 0px 1px 2px rgba(60, 64, 67, 0.3), 0px 1px 3px 1px rgba(60, 64, 67, 0.15);\n",
              "      fill: #174EA6;\n",
              "    }\n",
              "\n",
              "    .colab-df-buttons div {\n",
              "      margin-bottom: 4px;\n",
              "    }\n",
              "\n",
              "    [theme=dark] .colab-df-convert {\n",
              "      background-color: #3B4455;\n",
              "      fill: #D2E3FC;\n",
              "    }\n",
              "\n",
              "    [theme=dark] .colab-df-convert:hover {\n",
              "      background-color: #434B5C;\n",
              "      box-shadow: 0px 1px 3px 1px rgba(0, 0, 0, 0.15);\n",
              "      filter: drop-shadow(0px 1px 2px rgba(0, 0, 0, 0.3));\n",
              "      fill: #FFFFFF;\n",
              "    }\n",
              "  </style>\n",
              "\n",
              "    <script>\n",
              "      const buttonEl =\n",
              "        document.querySelector('#df-a1c1fd46-332e-468b-b97b-1503d87b1f01 button.colab-df-convert');\n",
              "      buttonEl.style.display =\n",
              "        google.colab.kernel.accessAllowed ? 'block' : 'none';\n",
              "\n",
              "      async function convertToInteractive(key) {\n",
              "        const element = document.querySelector('#df-a1c1fd46-332e-468b-b97b-1503d87b1f01');\n",
              "        const dataTable =\n",
              "          await google.colab.kernel.invokeFunction('convertToInteractive',\n",
              "                                                    [key], {});\n",
              "        if (!dataTable) return;\n",
              "\n",
              "        const docLinkHtml = 'Like what you see? Visit the ' +\n",
              "          '<a target=\"_blank\" href=https://colab.research.google.com/notebooks/data_table.ipynb>data table notebook</a>'\n",
              "          + ' to learn more about interactive tables.';\n",
              "        element.innerHTML = '';\n",
              "        dataTable['output_type'] = 'display_data';\n",
              "        await google.colab.output.renderOutput(dataTable, element);\n",
              "        const docLink = document.createElement('div');\n",
              "        docLink.innerHTML = docLinkHtml;\n",
              "        element.appendChild(docLink);\n",
              "      }\n",
              "    </script>\n",
              "  </div>\n",
              "\n",
              "    </div>\n",
              "  </div>\n"
            ]
          },
          "metadata": {},
          "execution_count": 13
        }
      ]
    },
    {
      "cell_type": "code",
      "source": [
        "nquhnrncaorkdjdf"
      ],
      "metadata": {
        "id": "fQbKPT3t5av0"
      },
      "execution_count": null,
      "outputs": []
    },
    {
      "cell_type": "code",
      "source": [
        "def run():\n",
        "    while True:\n",
        "        do_programe('600905')\n",
        "        now_time=datetime.datetime.now().strftime('%Y-%m-%d %H:%M:%S')\n",
        "        d1 = datetime.datetime.strptime(now_time, '%Y-%m-%d %H:%M:%S')\n",
        "        d2 = datetime.datetime.strptime(datetime.datetime.now().strftime('%Y-%m-%d')+' 15:00:00', '%Y-%m-%d %H:%M:%S')\n",
        "        delta = d2 - d1\n",
        "        if delta.total_seconds()<=0:\n",
        "          sys.exit()\n",
        "        time.sleep(1)"
      ],
      "metadata": {
        "id": "_eoRjJ_L_X7h"
      },
      "execution_count": null,
      "outputs": []
    },
    {
      "cell_type": "code",
      "source": [
        "if __name__ == '__main__':\n",
        "    schedule.every().day.at(\"09:30\").do(run)\n",
        "    while True:\n",
        "        schedule.run_pending()\n",
        "        time.sleep(1)"
      ],
      "metadata": {
        "id": "UyYZ3XKs_tef"
      },
      "execution_count": null,
      "outputs": []
    },
    {
      "cell_type": "code",
      "source": [
        "code = '600905'\n",
        "cbj = 1\n",
        "shuliang = 100\n",
        "color_bg_fg = '#0000FF'\n",
        "email_add = ['**********']\n",
        "if pd_ztjytime()==False: #判断是否在暂停交易的时间范围内\n",
        "        info=get_now_jiage(code) #调用方法获取当前的DataFrame\n",
        "        now_jiage=float(info['price'][0]) #获取现价\n",
        "        name=info['name'][0] #获取证券名称\n",
        "        pre_close=float(info['pre_close'][0]) #获取昨日收盘价\n",
        "        riqi=info['date'][0] #获取现价对应的日期\n",
        "        sj=info['time'][0] #获取价格对应的时间\n",
        "        now_zdie=round((now_jiage-pre_close)/pre_close*100,2) #计算现在的涨跌幅\n",
        "        all_zdie=round((now_jiage-cbj)/cbj*100,2)  #计算股票持有期间内总的涨跌幅，其中cbj为购买时候的成本价，需要约定全局变量\n",
        "        now_shizhi=round(shuliang*now_jiage,2) #计算股票现在的市值，其中shuliang为购买股票的数量，需要约定为全局变量\n",
        "        ykui=round(now_shizhi-cbj*shuliang,2)  #计算股票现在总的盈亏\n",
        "        if (abs(now_zdie)>=0 and abs(now_zdie)<3.09) or (abs(now_zdie)>=6  and abs(now_zdie)<6.05)  or (abs(now_zdie)>=9 and  abs(now_zdie)<9.1) : #判断现在的涨跌幅是否在目标范围内\n",
        "            email_comment = []\n",
        "            email_comment.append('<html>')\n",
        "            email_comment.append('<b><p><h3><font size=\"2\" color=\"black\">您好：</font></h4></p></b>')\n",
        "            email_comment.append('<p><font size=\"2\" color=\"#000000\">根据设置参数，现将监控到'+name+'('+str(code)+')的证券价格异动消息汇报如下：</font></p>')\n",
        "            email_comment.append('<table border=\"1px\" cellspacing=\"0px\"   width=\"600\" bgcolor=' + color_bg_fg + ' style=\"border-collapse:collapse\">')\n",
        "\n",
        "            email_comment.append('<tr>')\n",
        "            email_comment.append('<td align=\"center\"><b>序号</b></td>')\n",
        "            email_comment.append('<td align=\"center\"><b>购买单价</b></td>')\n",
        "            email_comment.append('<td align=\"center\"><b>持股数</b></td>')\n",
        "            email_comment.append('<td align=\"center\"><b>现价</b></td>')\n",
        "            email_comment.append('<td align=\"center\"><b>现涨跌幅</b></td>')\n",
        "            email_comment.append('<td align=\"center\"><b>总涨跌幅</b></td>')\n",
        "            email_comment.append('<td align=\"center\"><b>现市值</b></td>')\n",
        "            email_comment.append('<td align=\"center\"><b>盈亏额</b></td>')\n",
        "            email_comment.append('<td align=\"center\"><b>异动时间</b></td>')\n",
        "            email_comment.append('</tr>')\n",
        "\n",
        "            email_comment.append('<tr>')\n",
        "            email_comment.append('<td align=\"center\">'+str(1)+'</td>')\n",
        "            email_comment.append('<td align=\"center\">'+str(cbj) + '</td>')\n",
        "            email_comment.append('<td align=\"center\">' + str(shuliang) + '</td>')\n",
        "            email_comment.append('<td align=\"center\">' + str(now_jiage) +'</td>')\n",
        "            email_comment.append('<td align=\"center\">' + str(now_zdie) + '%</td>')\n",
        "            email_comment.append('<td align=\"center\">' + str(all_zdie) + '%</td>')\n",
        "            email_comment.append('<td align=\"center\">' + str(now_shizhi) + '元</td>')\n",
        "            email_comment.append('<td align=\"center\">' + str(ykui) + '元</td>')\n",
        "            email_comment.append('<td align=\"center\">' + str(riqi) +' '+str(sj) +'</td>')\n",
        "            email_comment.append('</tr>')\n",
        "            email_comment.append('</table>')\n",
        "            email_comment.append('<p><font size=\"2\" color=\"black\">祝：股市天天红，日日发大财！</font></p>')\n",
        "            email_comment.append('</html>')\n",
        "            send_msg = '\\n'.join(email_comment)\n",
        "            send_Email(email_add[0], send_msg)"
      ],
      "metadata": {
        "id": "5kI8Y0dQ_5JI"
      },
      "execution_count": 22,
      "outputs": []
    },
    {
      "cell_type": "markdown",
      "source": [
        "### 参考来源：https://zhuanlan.zhihu.com/p/410152581"
      ],
      "metadata": {
        "id": "BJiskUeKBcbL"
      }
    },
    {
      "cell_type": "code",
      "source": [],
      "metadata": {
        "id": "7Z2owAhpAaYG"
      },
      "execution_count": null,
      "outputs": []
    }
  ]
}
